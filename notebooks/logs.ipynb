{
 "cells": [
  {
   "cell_type": "code",
   "execution_count": 1,
   "id": "dfebf455",
   "metadata": {},
   "outputs": [],
   "source": [
    "from sqlalchemy import create_engine\n",
    "from dotenv import load_dotenv\n",
    "import pandas as pd\n",
    "import os"
   ]
  },
  {
   "cell_type": "code",
   "execution_count": 2,
   "id": "f7bab41b",
   "metadata": {},
   "outputs": [],
   "source": [
    "load_dotenv()\n",
    "engine = create_engine(os.getenv('MYSQL_URI')).connect()"
   ]
  },
  {
   "cell_type": "code",
   "execution_count": 3,
   "id": "875b80c7",
   "metadata": {},
   "outputs": [],
   "source": [
    "logs = pd.read_sql_table('logs', con=engine).sort_values(by='datetime', ascending=False)\n",
    "logs_dev = pd.read_sql_table('logs-dev', con=engine).sort_values(by='datetime', ascending=False)\n",
    "prompts = pd.read_sql_table('prompts', con=engine).sort_values(by='datetime', ascending=False)\n",
    "prompts_dev = pd.read_sql_table('prompts-dev', con=engine).sort_values(by='datetime', ascending=False)"
   ]
  },
  {
   "cell_type": "code",
   "execution_count": 5,
   "id": "bccecd58",
   "metadata": {},
   "outputs": [],
   "source": [
    "logs.to_csv('../logs/logs.csv', index=False)\n",
    "logs_dev.to_csv('../logs/logs_dev.csv', index=False)\n",
    "prompts.to_csv('../logs/prompts.csv', index=False)\n",
    "prompts_dev.to_csv('../logs/prompts_dev.csv', index=False)"
   ]
  },
  {
   "cell_type": "code",
   "execution_count": 6,
   "id": "d0fa2b0e",
   "metadata": {},
   "outputs": [],
   "source": [
    "# logs = pd.read_csv('../logs/logs.csv').sort_values('datetime', ascending=False).astype({'datetime': 'datetime64[ns]'})\n",
    "# logs_dev = pd.read_csv('../logs/logs_dev.csv').sort_values('datetime', ascending=False).astype({'datetime': 'datetime64[ns]'})\n",
    "# prompts = pd.read_csv('../logs/prompts.csv').sort_values('datetime', ascending=False).astype({'datetime': 'datetime64[ns]'})\n",
    "# prompts_dev = pd.read_csv('../logs/prompts_dev.csv').sort_values('datetime', ascending=False).astype({'datetime': 'datetime64[ns]'})"
   ]
  },
  {
   "cell_type": "code",
   "execution_count": 7,
   "id": "92420f40",
   "metadata": {},
   "outputs": [],
   "source": [
    "# logs.to_sql('logs', con=engine, if_exists='append', index=False)\n",
    "# logs_dev.to_sql('logs-dev', con=engine, if_exists='append', index=False)\n",
    "# prompts.to_sql('prompts', con=engine, if_exists='append', index=False)\n",
    "# prompts_dev.to_sql('prompts-dev', con=engine, if_exists='append', index=False)"
   ]
  }
 ],
 "metadata": {
  "kernelspec": {
   "display_name": "Python 3",
   "language": "python",
   "name": "python3"
  },
  "language_info": {
   "codemirror_mode": {
    "name": "ipython",
    "version": 3
   },
   "file_extension": ".py",
   "mimetype": "text/x-python",
   "name": "python",
   "nbconvert_exporter": "python",
   "pygments_lexer": "ipython3",
   "version": "3.12.0"
  }
 },
 "nbformat": 4,
 "nbformat_minor": 5
}
