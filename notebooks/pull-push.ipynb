{
 "cells": [
  {
   "cell_type": "code",
   "execution_count": 13,
   "id": "8971ad9b",
   "metadata": {},
   "outputs": [],
   "source": [
    "from google.oauth2.service_account import Credentials\n",
    "from gspread_dataframe import set_with_dataframe\n",
    "from sqlalchemy import create_engine\n",
    "from dotenv import load_dotenv\n",
    "import pandas as pd\n",
    "import gspread\n",
    "import json\n",
    "import os"
   ]
  },
  {
   "cell_type": "code",
   "execution_count": 14,
   "id": "27b52f11",
   "metadata": {},
   "outputs": [],
   "source": [
    "load_dotenv()\n",
    "engine = create_engine(os.getenv('MYSQL_URI')).connect()"
   ]
  },
  {
   "cell_type": "code",
   "execution_count": 15,
   "id": "8fe92c9e",
   "metadata": {},
   "outputs": [
    {
     "name": "stdout",
     "output_type": "stream",
     "text": [
      "Pulling latest from database..\n",
      "Pulled latest from database and saved to CSV files.\n"
     ]
    }
   ],
   "source": [
    "%run logs.ipynb"
   ]
  },
  {
   "cell_type": "code",
   "execution_count": 16,
   "id": "9c96cfe3",
   "metadata": {},
   "outputs": [
    {
     "name": "stdout",
     "output_type": "stream",
     "text": [
      "Pushing logs to Google Sheets...\n",
      "Processing table: logs -> logs.csv, prod\n",
      "Updated prod in logs.csv\n",
      "Processing table: logs-dev -> logs.csv, dev\n",
      "Updated dev in logs.csv\n",
      "Processing table: prompts -> prompts.csv, prod\n",
      "Updated prod in prompts.csv\n",
      "Processing table: prompts-dev -> prompts.csv, dev\n",
      "Updated dev in prompts.csv\n",
      "All sheets updated successfully.\n"
     ]
    }
   ],
   "source": [
    "%run sheets.ipynb"
   ]
  }
 ],
 "metadata": {
  "kernelspec": {
   "display_name": "Python 3",
   "language": "python",
   "name": "python3"
  },
  "language_info": {
   "codemirror_mode": {
    "name": "ipython",
    "version": 3
   },
   "file_extension": ".py",
   "mimetype": "text/x-python",
   "name": "python",
   "nbconvert_exporter": "python",
   "pygments_lexer": "ipython3",
   "version": "3.12.0"
  }
 },
 "nbformat": 4,
 "nbformat_minor": 5
}
