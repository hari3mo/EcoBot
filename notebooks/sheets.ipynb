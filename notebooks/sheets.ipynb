{
 "cells": [
  {
   "cell_type": "code",
   "execution_count": 4,
   "id": "22093937",
   "metadata": {},
   "outputs": [],
   "source": [
    "from google.oauth2.service_account import Credentials\n",
    "from gspread_dataframe import set_with_dataframe\n",
    "from sqlalchemy import create_engine\n",
    "from dotenv import load_dotenv\n",
    "import pandas as pd\n",
    "import gspread\n",
    "import json\n",
    "import os"
   ]
  },
  {
   "cell_type": "code",
   "execution_count": 5,
   "id": "814b77cd",
   "metadata": {},
   "outputs": [],
   "source": [
    "load_dotenv()\n",
    "engine = create_engine(os.getenv('MYSQL_URI')).connect()"
   ]
  },
  {
   "cell_type": "code",
   "execution_count": 6,
   "id": "5bc561e0",
   "metadata": {},
   "outputs": [
    {
     "name": "stdout",
     "output_type": "stream",
     "text": [
      "Processing table: logs -> logs.csv, prod\n",
      "Updated prod in logs.csv\n",
      "Processing table: logs-dev -> logs.csv, dev\n",
      "Updated dev in logs.csv\n",
      "Processing table: prompts -> prompts.csv, prod\n",
      "Updated prod in prompts.csv\n",
      "Processing table: prompts-dev -> prompts.csv, dev\n",
      "Updated dev in prompts.csv\n",
      "All sheets updated successfully.\n"
     ]
    }
   ],
   "source": [
    "scopes = [\n",
    "        'https://www.googleapis.com/auth/spreadsheets',\n",
    "        'https://www.googleapis.com/auth/drive'\n",
    "    ]\n",
    "\n",
    "creds_file = json.loads(os.getenv('GOOGLE_API_CREDENTIALS'))\n",
    "creds = Credentials.from_service_account_info(creds_file, scopes=scopes)\n",
    "client = gspread.authorize(creds)\n",
    "\n",
    "worksheet_map = {\n",
    "    'logs': ('logs.csv', 'prod'),\n",
    "    'logs-dev': ('logs.csv', 'dev'),\n",
    "    'prompts': ('prompts.csv', 'prod'),\n",
    "    'prompts-dev': ('prompts.csv', 'dev')\n",
    "}\n",
    "\n",
    "for table_name, (sheet_name, worksheet_name) in worksheet_map.items():\n",
    "    print(f\"Processing table: {table_name} -> {sheet_name}, {worksheet_name}\")\n",
    "    df = pd.read_sql_table(table_name, con=engine).sort_values(by='datetime', ascending=False)\n",
    "    df['datetime'] = df['datetime'].astype(str)\n",
    "    sheet = client.open(sheet_name)\n",
    "    worksheet = sheet.worksheet(worksheet_name)\n",
    "    worksheet.clear()\n",
    "    set_with_dataframe(worksheet, df, resize=True, include_index=False)\n",
    "    # worksheet.update([df.columns.values.tolist()] + df.values.tolist(), value_input_option='RAW')\n",
    "    print(f\"Updated {worksheet_name} in {sheet_name}\")\n",
    "\n",
    "print(\"All sheets updated successfully.\")\n"
   ]
  }
 ],
 "metadata": {
  "kernelspec": {
   "display_name": "Python 3",
   "language": "python",
   "name": "python3"
  },
  "language_info": {
   "codemirror_mode": {
    "name": "ipython",
    "version": 3
   },
   "file_extension": ".py",
   "mimetype": "text/x-python",
   "name": "python",
   "nbconvert_exporter": "python",
   "pygments_lexer": "ipython3",
   "version": "3.12.0"
  }
 },
 "nbformat": 4,
 "nbformat_minor": 5
}
